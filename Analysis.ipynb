{
 "cells": [
  {
   "cell_type": "code",
   "execution_count": 1,
   "metadata": {},
   "outputs": [],
   "source": [
    "import pandas as pd \n",
    "import numpy as np \n",
    "import matplotlib.pyplot as plt \n",
    "\n",
    "\n",
    "train_short_actual = pd.read_csv(\"TrainingShort/TrainingActual_Short.csv\")\n",
    "val_short_actual = pd.read_csv(\"ValidationShort/ValidationActual_Short.csv\")\n",
    "test_short_actual = pd.read_csv(\"TestingShort/TestingActual_Short.csv\")\n",
    "\n",
    "\n",
    "train_short_normal = pd.read_csv(\"Baselines/TrainingShort/TrainingPredictionsShort.csv\")\n",
    "val_short_normal = pd.read_csv(\"Baselines/ValidationShort/ValidationPredictionsShort.csv\")\n",
    "test_short_normal = pd.read_csv(\"Baselines/TestingShort/TestingPredictionsShort.csv\")\n",
    "\n",
    "\n",
    "train_short_gauss = pd.read_csv(\"TrainingShort/TrainingPredictionsShort_Gaussian.csv\")\n",
    "val_short_gauss = pd.read_csv(\"ValidationShort/ValidationPredictionsShort_Gaussian.csv\")\n",
    "test_short_gauss = pd.read_csv(\"TestingShort/TestingPredictionsShort_Gaussian.csv\")"
   ]
  },
  {
   "cell_type": "code",
   "execution_count": 2,
   "metadata": {},
   "outputs": [],
   "source": [
    "train_long_actual = pd.read_csv(\"TrainingLong/TrainingActual_Long.csv\")\n",
    "val_long_actual = pd.read_csv(\"ValidationLong/ValidationActual_Long.csv\")\n",
    "test_long_actual = pd.read_csv(\"TestingLong/TestingActual_Long.csv\")\n",
    "\n",
    "train_long_preds = pd.read_csv(\"Baselines/TrainingLong/TrainingPredictionsLong_Gaussian.csv\")\n",
    "val_long_preds = pd.read_csv(\"Baselines/ValidationLong/ValidationPredictionsLong_Gaussian.csv\")\n",
    "test_long_preds = pd.read_csv(\"Baselines/TestingLong/TestingPredictionsLong_Gaussian.csv\")"
   ]
  },
  {
   "cell_type": "code",
   "execution_count": 3,
   "metadata": {},
   "outputs": [
    {
     "name": "stdout",
     "output_type": "stream",
     "text": [
      "(253.51909336667146, 300.45656804093346, 0.1342654331852569)\n"
     ]
    }
   ],
   "source": [
    "from sklearn.metrics import mean_absolute_error, root_mean_squared_error, mean_absolute_percentage_error\n",
    "\n",
    "ncols_train = train_short_gauss.shape[1]\n",
    "ncols_val = val_short_gauss.shape[1]\n",
    "ncols_test = test_short_gauss.shape[1]\n",
    "\n",
    "def evaluate(output, preds):\n",
    "    errors_mae = []\n",
    "    errors_mape = [] \n",
    "    errors_rmse = [] \n",
    "    ncols = output.shape[1] \n",
    "    for i in range(ncols): \n",
    "        output_col = output.iloc[:, i]\n",
    "        preds_col = preds.iloc[:, i]\n",
    "        \n",
    "        errors_mae.append(mean_absolute_error(output_col, preds_col))\n",
    "        errors_mape.append(mean_absolute_percentage_error(output_col, preds_col))\n",
    "        errors_rmse.append(root_mean_squared_error(output_col, preds_col))\n",
    "        \n",
    "    \n",
    "    errors_mae = np.array(errors_mae)\n",
    "    errors_mape = np.array(errors_mape)\n",
    "    errors_rmse = np.array(errors_rmse)\n",
    "\n",
    "\n",
    "    return np.sum(errors_mae)/ncols, np.sum(errors_rmse)/ncols, np.sum(errors_mape)/ncols,\n",
    "\n",
    "\n",
    "\n",
    "errors = evaluate(test_short_normal, test_short_actual)\n",
    "print(errors)    "
   ]
  },
  {
   "cell_type": "markdown",
   "metadata": {},
   "source": [
    "# Calculating maximum and minimum electricity demand differences"
   ]
  },
  {
   "cell_type": "code",
   "execution_count": 4,
   "metadata": {},
   "outputs": [],
   "source": [
    "import ast\n",
    "import pandas as pd \n",
    "long_train100 = pd.read_csv(\"TestingLong/hundred_preds_Long.csv\")\n",
    "long_val100 = pd.read_csv(\"ValidationLong/hundred_preds_Long.csv\")\n",
    "long_test100 = pd.read_csv(\"TestingLong/hundred_preds_Long.csv\")\n",
    "\n",
    "short_train100 = pd.read_csv(\"TrainingShort/hundred_preds_Short.csv\")\n",
    "short_val100 = pd.read_csv(\"ValidationShort/hundred_preds_Short.csv\")\n",
    "short_test100 = pd.read_csv(\"TestingShort/hundred_preds_Short.csv\")\n",
    "\n",
    "\n",
    "\n",
    "def convert_to_floatdf(df):\n",
    "    if \"Unnamed: 0\" in df.columns.values:\n",
    "        x = df.drop([\"Unnamed: 0\"], inplace = False, axis =1) # drop that column. \n",
    "    else: \n",
    "        x = df.copy() \n",
    "    for column in x.columns:\n",
    "        x[column] = x[column].apply(lambda x : list(map(float, ast.literal_eval(x))))\n",
    "    return x  \n",
    "\n",
    "long_train100 = convert_to_floatdf(long_train100)   \n",
    "long_val100 = convert_to_floatdf(long_val100)  \n",
    "long_test100 = convert_to_floatdf(long_test100) # conversion to floats. \n",
    "\n",
    "short_train100 = convert_to_floatdf(short_train100)     \n",
    "short_val100 = convert_to_floatdf(short_val100)   \n",
    "short_test100 = convert_to_floatdf(short_test100)    "
   ]
  },
  {
   "cell_type": "code",
   "execution_count": 5,
   "metadata": {},
   "outputs": [],
   "source": [
    "import numpy as np \n",
    "def calculate_encapsulation_frequency(preds_df, actuals_df, lower_percentile = 2.5, upper_percentile = 97.5):\n",
    "    encapsulation_count = 0\n",
    "    total_count = 0\n",
    "\n",
    "    rows_len, cols_len = preds_df.shape[0], preds_df.shape[1]\n",
    "    \n",
    "    for i in range(rows_len): ## go by each row and col.\n",
    "        for j in range(cols_len): \n",
    "            actual_val = actuals_df.iloc[i, j] # get the actual val. \n",
    "            \n",
    "            list_val = preds_df.iloc[i,j] # get the list. \n",
    "            upper_bound = np.percentile(list_val, upper_percentile)\n",
    "            lower_bound = np.percentile(list_val, lower_percentile) # get the upper and lower bounds. \n",
    "            \n",
    "            if lower_bound <= actual_val <= upper_bound:\n",
    "                encapsulation_count +=1 \n",
    "            total_count+=1 \n",
    "    \n",
    "    return encapsulation_count/total_count * 100 \n",
    "    \n",
    "\n",
    "actual_test_long = pd.read_csv(\"TestingLong/TestingActual_Long.csv\")\n",
    "actual_test_short = pd.read_csv(\"TestingShort/TestingActual_Short.csv\")\n",
    "test_encap = calculate_encapsulation_frequency(short_test100, actual_test_short, 5, upper_percentile=95)"
   ]
  },
  {
   "cell_type": "markdown",
   "metadata": {},
   "source": [
    "# Bias"
   ]
  },
  {
   "cell_type": "code",
   "execution_count": 6,
   "metadata": {},
   "outputs": [],
   "source": [
    "def convert_columns(df):\n",
    "    return pd.to_datetime(df.columns.str.extract(r'(\\d{1,2}/\\d{1,2}/\\d{4})')[0], format='%m/%d/%Y', errors='coerce')"
   ]
  },
  {
   "cell_type": "code",
   "execution_count": 137,
   "metadata": {},
   "outputs": [
    {
     "name": "stdout",
     "output_type": "stream",
     "text": [
      "Testing, -37.073497919936045\n"
     ]
    }
   ],
   "source": [
    "from tenacity import dataclass_kwargs\n",
    "\n",
    "\n",
    "data = \"Testing\"\n",
    "\n",
    "\n",
    "normal_short = pd.read_csv(f\"/home/jik19004/FilesToRun/BayesianTimeSeries/Baselines/{data}Short/{data}PredictionsShort.csv\")\n",
    "normal_long = pd.read_csv(f\"/home/jik19004/FilesToRun/BayesianTimeSeries/Baselines/{data}Long/{data}PredictionsLong.csv\")\n",
    "\n",
    "bayesian_short_gauss = pd.read_csv(f\"{data}Short/{data}PredictionsShort_Gaussian.csv\")\n",
    "bayesian_long_gauss = pd.read_csv(f\"/home/jik19004/FilesToRun/BayesianTimeSeries/{data}Long/{data}PredictionsLong_Gaussian.csv\")\n",
    "\n",
    "normal_short.columns = convert_columns(normal_short)\n",
    "normal_long.columns = convert_columns(normal_long)\n",
    "\n",
    "bayesian_short_gauss.columns = convert_columns(bayesian_short_gauss)\n",
    "bayesian_long_gauss.columns = convert_columns(bayesian_long_gauss) \n",
    "\n",
    "actual_short = pd.read_csv(f\"/home/jik19004/FilesToRun/BayesianTimeSeries/{data}Short/{data}Actual_Short.csv\")\n",
    "actual_short.columns = convert_columns(actual_short) # convert the actual_short. \n",
    "\n",
    "actual_long = pd.read_csv(f\"/home/jik19004/FilesToRun/BayesianTimeSeries/{data}Long/{data}Actual_Long.csv\")\n",
    "actual_long.columns = convert_columns(actual_long)\n",
    "\n",
    "\n",
    "def calculate_bias_all(actuals, predictions):\n",
    "    \"\"\"\n",
    "    Calculate the bias between all values in the actuals and predictions datasets.\n",
    "    Bias is defined as the mean difference between predictions and actuals.\n",
    "    \"\"\"\n",
    "    # Flatten the actuals and predictions into 1D arrays\n",
    "    actual_values = actuals.values.flatten()\n",
    "    prediction_values = predictions.values.flatten()\n",
    "    \n",
    "    # Remove NaN values\n",
    "    mask = ~np.isnan(actual_values) & ~np.isnan(prediction_values)\n",
    "    actual_values = actual_values[mask]\n",
    "    prediction_values = prediction_values[mask]\n",
    "    \n",
    "    # Calculate bias\n",
    "    bias = np.sum((prediction_values - actual_values)) / len(prediction_values)\n",
    "    return bias\n",
    "\n",
    "bias = calculate_bias_all(actual_short, normal_short)\n",
    "print(f\"{data}, {bias}\")"
   ]
  },
  {
   "cell_type": "code",
   "execution_count": 138,
   "metadata": {},
   "outputs": [
    {
     "name": "stdout",
     "output_type": "stream",
     "text": [
      "Testing, 0.7437180475424854\n"
     ]
    }
   ],
   "source": [
    "from sklearn.metrics import r2_score\n",
    "from torch import normal\n",
    "\n",
    "def calculate_r2(actuals, predictions):\n",
    "    \"\"\"\n",
    "    Calculate the R² coefficient between actuals and predictions.\n",
    "    R² measures how well the predictions approximate the actual values.\n",
    "    \"\"\"\n",
    "    # Flatten the actuals and predictions into 1D arrays\n",
    "    actual_values = actuals.values.flatten()\n",
    "    prediction_values = predictions.values.flatten()\n",
    "    \n",
    "    # Remove NaN values\n",
    "    mask = ~np.isnan(actual_values) & ~np.isnan(prediction_values)\n",
    "    actual_values = actual_values[mask]\n",
    "    prediction_values = prediction_values[mask]\n",
    "    \n",
    "    # Calculate R² coefficient\n",
    "    r2 = r2_score(actual_values, prediction_values)\n",
    "    return r2\n",
    "\n",
    "r2 = calculate_r2(actual_short, normal_short)\n",
    "print(f\"{data}, {r2}\")"
   ]
  }
 ],
 "metadata": {
  "kernelspec": {
   "display_name": "Privacy",
   "language": "python",
   "name": "python3"
  },
  "language_info": {
   "codemirror_mode": {
    "name": "ipython",
    "version": 3
   },
   "file_extension": ".py",
   "mimetype": "text/x-python",
   "name": "python",
   "nbconvert_exporter": "python",
   "pygments_lexer": "ipython3",
   "version": "3.9.13"
  }
 },
 "nbformat": 4,
 "nbformat_minor": 2
}
