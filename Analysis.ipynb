{
 "cells": [
  {
   "cell_type": "code",
   "execution_count": 12,
   "metadata": {},
   "outputs": [],
   "source": [
    "import pandas as pd \n",
    "import numpy as np \n",
    "import matplotlib.pyplot as plt \n",
    "\n",
    "\n",
    "train_short = pd.read_csv(\"TrainingShort/TrainingActual_Short.csv\")\n",
    "val_short = pd.read_csv(\"ValidationShort/ValidationActual_Short.csv\")\n",
    "test_short = pd.read_csv(\"TestingShort/TestingActual_Short.csv\")\n",
    "\n",
    "\n",
    "train_preds = pd.read_csv(\"TrainingShort/TrainingPredictionsShort.csv\")\n",
    "val_preds = pd.read_csv(\"ValidationShort/ValidationPredictionsShort.csv\")\n",
    "test_preds = pd.read_csv(\"TestingShort/TestingPredictionsShort.csv\")"
   ]
  },
  {
   "cell_type": "code",
   "execution_count": 13,
   "metadata": {},
   "outputs": [],
   "source": [
    "train_long_actual = pd.read_csv(\"TrainingLong/TrainingActual_Long.csv\")\n",
    "val_long_actual = pd.read_csv(\"ValidationLong/ValidationActual_Long.csv\")\n",
    "test_long_actual = pd.read_csv(\"TestingLong/TestingActual_Long.csv\")\n",
    "\n",
    "train_long_preds = pd.read_csv(\"TrainingLong/TrainingPredictionsLong_Gaussian.csv\")\n",
    "val_long_preds = pd.read_csv(\"ValidationLong/ValidationPredictionsLong_Gaussian.csv\")\n",
    "test_long_preds = pd.read_csv(\"TestingLong/TestingPredictionsLong_Gaussian.csv\")"
   ]
  },
  {
   "cell_type": "code",
   "execution_count": 17,
   "metadata": {},
   "outputs": [
    {
     "name": "stdout",
     "output_type": "stream",
     "text": [
      "(104.31314689643347, 124.30283596465956, 0.03126279433770484)\n"
     ]
    }
   ],
   "source": [
    "from sklearn.metrics import mean_absolute_error, root_mean_squared_error, mean_absolute_percentage_error\n",
    "\n",
    "ncols_train = train_short.shape[1]\n",
    "ncols_val = val_short.shape[1]\n",
    "ncols_test = test_short.shape[1]\n",
    "\n",
    "def evaluate(output, preds):\n",
    "    errors_mae = []\n",
    "    errors_mape = [] \n",
    "    errors_rmse = [] \n",
    "    ncols = output.shape[1] \n",
    "    for i in range(ncols): \n",
    "        output_col = output.iloc[:, i]\n",
    "        preds_col = preds.iloc[:, i]\n",
    "        \n",
    "        errors_mae.append(mean_absolute_error(output_col, preds_col))\n",
    "        errors_mape.append(mean_absolute_percentage_error(output_col, preds_col))\n",
    "        errors_rmse.append(root_mean_squared_error(output_col, preds_col))\n",
    "        \n",
    "    \n",
    "    errors_mae = np.array(errors_mae)\n",
    "    errors_mape = np.array(errors_mape)\n",
    "    errors_rmse = np.array(errors_rmse)\n",
    "\n",
    "\n",
    "    return np.sum(errors_mae)/ncols, np.sum(errors_rmse)/ncols, np.sum(errors_mape)/ncols,\n",
    "\n",
    "\n",
    "\n",
    "errors = evaluate(train_long_preds, train_long_actual)\n",
    "print(errors)    "
   ]
  },
  {
   "cell_type": "markdown",
   "metadata": {},
   "source": [
    "# Calculating maximum and minimum electricity demand differences"
   ]
  },
  {
   "cell_type": "code",
   "execution_count": 7,
   "metadata": {},
   "outputs": [],
   "source": [
    "import ast\n",
    "import pandas as pd \n",
    "long_train100 = pd.read_csv(\"TestingLong/hundred_preds_Long.csv\")\n",
    "long_val100 = pd.read_csv(\"ValidationLong/hundred_preds_Long.csv\")\n",
    "long_test100 = pd.read_csv(\"TestingLong/hundred_preds_Long.csv\")\n",
    "\n",
    "short_train100 = pd.read_csv(\"TrainingShort/hundred_preds_Short.csv\")\n",
    "short_val100 = pd.read_csv(\"ValidationShort/hundred_preds_Short.csv\")\n",
    "short_test100 = pd.read_csv(\"TestingShort/hundred_preds_Short.csv\")\n",
    "\n",
    "\n",
    "\n",
    "def convert_to_floatdf(df):\n",
    "    if \"Unnamed: 0\" in df.columns.values:\n",
    "        x = df.drop([\"Unnamed: 0\"], inplace = False, axis =1) # drop that column. \n",
    "    else: \n",
    "        x = df.copy() \n",
    "    for column in x.columns:\n",
    "        x[column] = x[column].apply(lambda x : list(map(float, ast.literal_eval(x))))\n",
    "    return x  \n",
    "\n",
    "long_train100 = convert_to_floatdf(long_train100)   \n",
    "long_val100 = convert_to_floatdf(long_val100)  \n",
    "long_test100 = convert_to_floatdf(long_test100) # conversion to floats. \n",
    "\n",
    "short_train100 = convert_to_floatdf(short_train100)     \n",
    "short_val100 = convert_to_floatdf(short_val100)   \n",
    "short_test100 = convert_to_floatdf(short_test100)    "
   ]
  },
  {
   "cell_type": "code",
   "execution_count": 8,
   "metadata": {},
   "outputs": [],
   "source": [
    "import numpy as np \n",
    "def calculate_encapsulation_frequency(preds_df, actuals_df, lower_percentile = 2.5, upper_percentile = 97.5):\n",
    "    encapsulation_count = 0\n",
    "    total_count = 0\n",
    "\n",
    "    rows_len, cols_len = preds_df.shape[0], preds_df.shape[1]\n",
    "    \n",
    "    for i in range(rows_len): ## go by each row and col.\n",
    "        for j in range(cols_len): \n",
    "            actual_val = actuals_df.iloc[i, j] # get the actual val. \n",
    "            \n",
    "            list_val = preds_df.iloc[i,j] # get the list. \n",
    "            upper_bound = np.percentile(list_val, upper_percentile)\n",
    "            lower_bound = np.percentile(list_val, lower_percentile) # get the upper and lower bounds. \n",
    "            \n",
    "            if lower_bound <= actual_val <= upper_bound:\n",
    "                encapsulation_count +=1 \n",
    "            total_count+=1 \n",
    "    \n",
    "    return encapsulation_count/total_count * 100 \n",
    "    \n",
    "\n",
    "actual_test_long = pd.read_csv(\"TestingLong/TestingActual_Long.csv\")\n",
    "actual_test_short = pd.read_csv(\"TestingShort/TestingActual_Short.csv\")\n",
    "test_encap = calculate_encapsulation_frequency(short_test100, actual_test_short, 5, upper_percentile=95)"
   ]
  },
  {
   "cell_type": "code",
   "execution_count": 9,
   "metadata": {},
   "outputs": [
    {
     "name": "stdout",
     "output_type": "stream",
     "text": [
      "97.331996945399\n"
     ]
    }
   ],
   "source": [
    "print(test_encap) "
   ]
  },
  {
   "cell_type": "markdown",
   "metadata": {},
   "source": [
    "# Bias"
   ]
  },
  {
   "cell_type": "code",
   "execution_count": 10,
   "metadata": {},
   "outputs": [],
   "source": [
    "def convert_columns(df):\n",
    "    return pd.to_datetime(df.columns.str.extract(r'(\\d{1,2}/\\d{1,2}/\\d{4})')[0], format='%m/%d/%Y', errors='coerce')"
   ]
  },
  {
   "cell_type": "code",
   "execution_count": 11,
   "metadata": {},
   "outputs": [
    {
     "name": "stdout",
     "output_type": "stream",
     "text": [
      "Bias values:\n"
     ]
    },
    {
     "data": {
      "text/plain": [
       "{2019: -73.5386166213768, 2020: -81.6790879402174, 2021: -58.55308632783883}"
      ]
     },
     "execution_count": 11,
     "metadata": {},
     "output_type": "execute_result"
    }
   ],
   "source": [
    "normal_short = pd.read_csv(\"/home/jik19004/FilesToRun/BayesianTimeSeries/Baselines/TestingShort/TestingPredictionsShort.csv\")\n",
    "normal_long = pd.read_csv(\"/home/jik19004/FilesToRun/BayesianTimeSeries/Baselines/TestingLong/TestingPredictionsLong.csv\")\n",
    "\n",
    "bayesian_short = pd.read_csv(\"/home/jik19004/FilesToRun/BayesianTimeSeries/TestingShort/TestingPredictionsShort.csv\")\n",
    "bayesian_long = pd.read_csv(\"/home/jik19004/FilesToRun/BayesianTimeSeries/TestingLong/TestingPredictionsLong.csv\")\n",
    "bayesian_long_gauss = pd.read_csv(\"/home/jik19004/FilesToRun/BayesianTimeSeries/TestingLong/TestingPredictionsLong_Gaussian.csv\")\n",
    "\n",
    "normal_short.columns = convert_columns(normal_short)\n",
    "normal_long.columns = convert_columns(normal_long)\n",
    "\n",
    "bayesian_short.columns = convert_columns(bayesian_short)\n",
    "bayesian_long.columns = convert_columns(bayesian_long) \n",
    "bayesian_long_gauss.columns = convert_columns(bayesian_long_gauss) \n",
    "\n",
    "actual_test_short = pd.read_csv(\"/home/jik19004/FilesToRun/BayesianTimeSeries/TestingShort/TestingActual_Short.csv\")\n",
    "actual_test_short.columns = convert_columns(actual_test_short) # convert the actual_short. \n",
    "\n",
    "actual_test_long = pd.read_csv(\"/home/jik19004/FilesToRun/BayesianTimeSeries/TestingLong/TestingActual_Long.csv\")\n",
    "actual_test_long.columns = convert_columns(actual_test_long)\n",
    "\n",
    "\n",
    "def calculate_bias(actuals, predictions, months, year):\n",
    "    all_actuals = []\n",
    "    all_predictions = []\n",
    "    \n",
    "    for month in months:\n",
    "        # Filter data for the specific month and year\n",
    "        filtered_cols = [col for col in actuals.columns if col.month == month and col.year == year]\n",
    "        monthly_actuals = actuals[filtered_cols].values.flatten()\n",
    "        monthly_predictions = predictions[filtered_cols].values.flatten()\n",
    "        # Remove NaN values\n",
    "        mask = ~np.isnan(monthly_actuals) & ~np.isnan(monthly_predictions)\n",
    "        monthly_actuals = monthly_actuals[mask]\n",
    "        monthly_predictions = monthly_predictions[mask]\n",
    "        \n",
    "        # Accumulate data for the overall calculation\n",
    "        all_actuals.extend(monthly_actuals)\n",
    "        all_predictions.extend(monthly_predictions)\n",
    "    all_actuals = np.array(all_actuals)\n",
    "    all_predictions = np.array(all_predictions)\n",
    "    \n",
    "    return np.sum(all_predictions - all_actuals)/(len(all_predictions))\n",
    "\n",
    "\n",
    "r2_scores = {}\n",
    "\n",
    "short_years = [2019,2020,2021] \n",
    "months = [3,4,5]\n",
    "\n",
    "for year in short_years: \n",
    "    r2_scores[year] = calculate_bias(actual_test_short, bayesian_short, months, year) # calculate the r2 score for each year. \n",
    "# Display the R^2 scores for each month\n",
    "print(\"Bias values:\")\n",
    "r2_scores\n"
   ]
  },
  {
   "cell_type": "code",
   "execution_count": 10,
   "metadata": {},
   "outputs": [
    {
     "name": "stdout",
     "output_type": "stream",
     "text": [
      "Yes\n"
     ]
    }
   ],
   "source": [
    "col = actual.columns[0]\n",
    "\n",
    "if \"2019\" in col: \n",
    "    print(\"Yes\")"
   ]
  }
 ],
 "metadata": {
  "kernelspec": {
   "display_name": "Privacy",
   "language": "python",
   "name": "python3"
  },
  "language_info": {
   "codemirror_mode": {
    "name": "ipython",
    "version": 3
   },
   "file_extension": ".py",
   "mimetype": "text/x-python",
   "name": "python",
   "nbconvert_exporter": "python",
   "pygments_lexer": "ipython3",
   "version": "3.9.13"
  }
 },
 "nbformat": 4,
 "nbformat_minor": 2
}
