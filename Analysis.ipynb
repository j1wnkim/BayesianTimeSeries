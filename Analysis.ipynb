{
 "cells": [
  {
   "cell_type": "code",
   "execution_count": 1,
   "metadata": {},
   "outputs": [],
   "source": [
    "import pandas as pd \n",
    "import numpy as np \n",
    "import matplotlib.pyplot as plt \n",
    "\n",
    "\n",
    "train_short = pd.read_csv(\"TrainingShort/TrainingActual_Short.csv\")\n",
    "val_short = pd.read_csv(\"ValidationShort/ValidationActual_Short.csv\")\n",
    "test_short = pd.read_csv(\"TestingShort/TestingActual_Short.csv\")\n",
    "\n",
    "train_preds = pd.read_csv(\"TrainingShort/TrainingPredictionsShort.csv\")\n",
    "val_preds = pd.read_csv(\"ValidationShort/ValidationPredictionsShort.csv\")\n",
    "test_preds = pd.read_csv(\"TestingShort/TestingPredictionsShort.csv\")\n"
   ]
  },
  {
   "cell_type": "code",
   "execution_count": 2,
   "metadata": {},
   "outputs": [
    {
     "name": "stdout",
     "output_type": "stream",
     "text": [
      "(281.6339556296296, 334.3240217673921, 0.08984890789625882)\n"
     ]
    }
   ],
   "source": [
    "from sklearn.metrics import mean_absolute_error, root_mean_squared_error, mean_absolute_percentage_error\n",
    "\n",
    "ncols_train = train_short.shape[1]\n",
    "ncols_val = val_short.shape[1]\n",
    "ncols_test = test_short.shape[1]\n",
    "\n",
    "def evaluate(output, preds):\n",
    "    errors_mae = []\n",
    "    errors_mape = [] \n",
    "    errors_rmse = [] \n",
    "    ncols = output.shape[1] \n",
    "    for i in range(ncols): \n",
    "        output_col = output.iloc[:, i]\n",
    "        preds_col = preds.iloc[:, i]\n",
    "        \n",
    "        errors_mae.append(mean_absolute_error(output_col, preds_col))\n",
    "        errors_mape.append(mean_absolute_percentage_error(output_col, preds_col))\n",
    "        errors_rmse.append(root_mean_squared_error(output_col, preds_col))\n",
    "        \n",
    "    \n",
    "    errors_mae = np.array(errors_mae)\n",
    "    errors_mape = np.array(errors_mape)\n",
    "    errors_rmse = np.array(errors_rmse)\n",
    "\n",
    "\n",
    "    return np.sum(errors_mae)/ncols, np.sum(errors_rmse)/ncols, np.sum(errors_mape)/ncols,\n",
    "\n",
    "\n",
    "\n",
    "errors = evaluate(test_short, test_preds)\n",
    "print(errors)    "
   ]
  },
  {
   "cell_type": "markdown",
   "metadata": {},
   "source": [
    "# Calculating maximum and minimum electricity demand differences"
   ]
  },
  {
   "cell_type": "code",
   "execution_count": 3,
   "metadata": {},
   "outputs": [],
   "source": [
    "import ast\n",
    "import pandas as pd \n",
    "long_train100 = pd.read_csv(\"TestingLong/hundred_preds_long.csv\")\n",
    "long_val100 = pd.read_csv(\"ValidationLong/hundred_preds_long.csv\")\n",
    "long_test100 = pd.read_csv(\"TestingLong/hundred_preds_long.csv\")\n",
    "\n",
    "short_train100 = pd.read_csv(\"TrainingShort/hundred_preds_short.csv\")\n",
    "short_val100 = pd.read_csv(\"ValidationShort/hundred_preds_short.csv\")\n",
    "short_test100 = pd.read_csv(\"TestingShort/hundred_preds_short.csv\")\n",
    "\n",
    "\n",
    "\n",
    "def convert_to_floatdf(df):\n",
    "    if \"Unnamed: 0\" in df.columns.values:\n",
    "        x = df.drop([\"Unnamed: 0\"], inplace = False, axis =1) # drop that column. \n",
    "    else: \n",
    "        x = df.copy() \n",
    "    for column in x.columns:\n",
    "        x[column] = x[column].apply(lambda x : list(map(float, ast.literal_eval(x))))\n",
    "    return x  \n",
    "\n",
    "long_train100 = convert_to_floatdf(long_train100)\n",
    "long_val100 = convert_to_floatdf(long_val100)\n",
    "long_test100 = convert_to_floatdf(long_test100) # conversion to floats. \n",
    "\n",
    "short_train100 = convert_to_floatdf(short_train100)\n",
    "short_val100 = convert_to_floatdf(short_val100)\n",
    "short_test100 = convert_to_floatdf(short_test100)"
   ]
  },
  {
   "cell_type": "code",
   "execution_count": 7,
   "metadata": {},
   "outputs": [],
   "source": [
    "import numpy as np \n",
    "def calculate_encapsulation_frequency(preds_df, actuals_df, lower_percentile = 2.5, upper_percentile = 97.5):\n",
    "    encapsulation_count = 0\n",
    "    total_count = 0\n",
    "\n",
    "    rows_len, cols_len = preds_df.shape[0], preds_df.shape[1]\n",
    "    \n",
    "    for i in range(rows_len): ## go by each row and col.\n",
    "        for j in range(cols_len): \n",
    "            actual_val = actuals_df.iloc[i, j] # get the actual val. \n",
    "            \n",
    "            list_val = preds_df.iloc[i,j] # get the list. \n",
    "            upper_bound = np.percentile(list_val, upper_percentile)\n",
    "            lower_bound = np.percentile(list_val, lower_percentile) # get the upper and lower bounds. \n",
    "            \n",
    "            if lower_bound <= actual_val <= upper_bound:\n",
    "                encapsulation_count +=1 \n",
    "            total_count+=1 \n",
    "    \n",
    "    return encapsulation_count/total_count * 100 \n",
    "    \n",
    "\n",
    "actual_test_long = pd.read_csv(\"TestingLong/TestingActual_Long.csv\")\n",
    "actual_test_short = pd.read_csv(\"TestingShort/TestingActual_Short.csv\")\n",
    "test_encap = calculate_encapsulation_frequency(short_test100, actual_test_short, 5, upper_percentile=95)"
   ]
  },
  {
   "cell_type": "code",
   "execution_count": 8,
   "metadata": {},
   "outputs": [
    {
     "name": "stdout",
     "output_type": "stream",
     "text": [
      "97.331996945399\n"
     ]
    }
   ],
   "source": [
    "print(test_encap)"
   ]
  },
  {
   "cell_type": "code",
   "execution_count": null,
   "metadata": {},
   "outputs": [],
   "source": []
  }
 ],
 "metadata": {
  "kernelspec": {
   "display_name": "Privacy",
   "language": "python",
   "name": "python3"
  },
  "language_info": {
   "codemirror_mode": {
    "name": "ipython",
    "version": 3
   },
   "file_extension": ".py",
   "mimetype": "text/x-python",
   "name": "python",
   "nbconvert_exporter": "python",
   "pygments_lexer": "ipython3",
   "version": "3.9.13"
  }
 },
 "nbformat": 4,
 "nbformat_minor": 2
}
