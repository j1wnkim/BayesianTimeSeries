{
 "cells": [
  {
   "cell_type": "code",
   "execution_count": 1,
   "metadata": {},
   "outputs": [],
   "source": [
    "import pandas as pd \n",
    "import numpy as np \n",
    "import matplotlib.pyplot as plt \n",
    "\n",
    "\n",
    "train_long = pd.read_csv(\"../TrainingShort/TrainingActual_Short.csv\")\n",
    "val_long = pd.read_csv(\"../ValidationShort/ValidationActual_Short.csv\")\n",
    "test_long = pd.read_csv(\"../TestingShort/TestingActual_Short.csv\")\n",
    "\n",
    "train_preds = pd.read_csv(\"../TrainingShort/TrainingPredictionsShort.csv\")\n",
    "val_preds = pd.read_csv(\"../ValidationShort/ValidationPredictionsShort.csv\")\n",
    "test_preds = pd.read_csv(\"../TestingShort/TestingPredictionsShort.csv\")\n"
   ]
  },
  {
   "cell_type": "code",
   "execution_count": 4,
   "metadata": {},
   "outputs": [
    {
     "name": "stdout",
     "output_type": "stream",
     "text": [
      "(203.0827730022302, 247.23996386393017, 0.06276151488256324)\n"
     ]
    }
   ],
   "source": [
    "from sklearn.metrics import mean_absolute_error, root_mean_squared_error, mean_absolute_percentage_error\n",
    "\n",
    "ncols_train = train_long.shape[1]\n",
    "ncols_val = val_long.shape[1]\n",
    "ncols_test = test_long.shape[1]\n",
    "\n",
    "def evaluate(output, preds):\n",
    "    errors_mae = []\n",
    "    errors_mape = [] \n",
    "    errors_rmse = [] \n",
    "    ncols = output.shape[1] \n",
    "    for i in range(ncols): \n",
    "        output_col = output.iloc[:, i]\n",
    "        preds_col = preds.iloc[:, i]\n",
    "        \n",
    "        errors_mae.append(mean_absolute_error(output_col, preds_col))\n",
    "        errors_mape.append(mean_absolute_percentage_error(output_col, preds_col))\n",
    "        errors_rmse.append(root_mean_squared_error(output_col, preds_col))\n",
    "        \n",
    "    \n",
    "    errors_mae = np.array(errors_mae)\n",
    "    errors_mape = np.array(errors_mape)\n",
    "    errors_rmse = np.array(errors_rmse)\n",
    "\n",
    "\n",
    "    return np.sum(errors_mae)/ncols, np.sum(errors_rmse)/ncols, np.sum(errors_mape)/ncols,\n",
    "\n",
    "\n",
    "\n",
    "errors = evaluate(train_long, train_preds)\n",
    "print(errors)    "
   ]
  }
 ],
 "metadata": {
  "kernelspec": {
   "display_name": "Privacy",
   "language": "python",
   "name": "python3"
  },
  "language_info": {
   "codemirror_mode": {
    "name": "ipython",
    "version": 3
   },
   "file_extension": ".py",
   "mimetype": "text/x-python",
   "name": "python",
   "nbconvert_exporter": "python",
   "pygments_lexer": "ipython3",
   "version": "3.10.0"
  }
 },
 "nbformat": 4,
 "nbformat_minor": 2
}
