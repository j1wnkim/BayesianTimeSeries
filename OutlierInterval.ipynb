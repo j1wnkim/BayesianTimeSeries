{
 "cells": [
  {
   "cell_type": "code",
   "execution_count": 1,
   "metadata": {},
   "outputs": [
    {
     "data": {
      "text/plain": [
       "99.744003609983"
      ]
     },
     "execution_count": 1,
     "metadata": {},
     "output_type": "execute_result"
    }
   ],
   "source": [
    "import numpy as np\n",
    "import pandas as pd \n",
    "import matplotlib.pyplot as plt \n",
    "from scipy.stats import norm\n",
    "\n",
    "\n",
    "train_preds = pd.read_csv(\"/home/jik19004/FilesToRun/BayesianTimeSeries/TrainingLong/TrainingPredictionsLong.csv\")\n",
    "train_std = pd.read_csv(\"/home/jik19004/FilesToRun/BayesianTimeSeries/TrainingLong/TrainingStdLong.csv\")\n",
    "\n",
    "val_preds = pd.read_csv(\"/home/jik19004/FilesToRun/BayesianTimeSeries/ValidationLong/ValidationPredictionsLong.csv\")\n",
    "val_std = pd.read_csv(\"/home/jik19004/FilesToRun/BayesianTimeSeries/ValidationLong/ValidationStdLong.csv\")\n",
    "\n",
    "test_preds = pd.read_csv(\"/home/jik19004/FilesToRun/BayesianTimeSeries/TestingLong/TestingPredictionsLong.csv\")\n",
    "test_std = pd.read_csv(\"/home/jik19004/FilesToRun/BayesianTimeSeries/TestingLong/TestingStdLong.csv\")\n",
    "\n",
    "train_actual = pd.read_csv(\"/home/jik19004/FilesToRun/BayesianTimeSeries/TrainingLong/TrainingActual_Long.csv\")\n",
    "val_actual = pd.read_csv(\"/home/jik19004/FilesToRun/BayesianTimeSeries/ValidationLong/ValidationActual_Long.csv\")\n",
    "test_actual = pd.read_csv(\"/home/jik19004/FilesToRun/BayesianTimeSeries/TestingLong/TestingActual_Long.csv\")\n",
    "\n",
    "# Define a function to calculate the encapsulation percentage\n",
    "def calculate_encapsulation_percentage(confidence=0.7, data_name =\"Training\", data_setting = \"Long\"):\n",
    "    \n",
    "    prediction_df = \"/home/jik19004/FilesToRun/BayesianTimeSeries/{}{}/{}Predictions{}.csv\".format(data_name, data_setting, data_name, data_setting)\n",
    "    actual_df = \"/home/jik19004/FilesToRun/BayesianTimeSeries/{}{}/{}Actual_{}.csv\".format(data_name,data_setting,data_name,data_setting)\n",
    "    std_dev_df = \"/home/jik19004/FilesToRun/BayesianTimeSeries/{}{}/{}Std{}.csv\".format(data_name, data_setting, data_name, data_setting)\n",
    "    \n",
    "    prediction_df = pd.read_csv(prediction_df)\n",
    "    actual_df = pd.read_csv(actual_df)\n",
    "    std_dev_df = pd.read_csv(std_dev_df)\n",
    "    \n",
    "    # Calculate Z-score for the given confidence level\n",
    "    Z = norm.ppf((1 + confidence) / 2)\n",
    "\n",
    "    # Ensure numeric conversion to handle non-numeric data gracefully\n",
    "    actual_df = actual_df.apply(pd.to_numeric, errors='coerce')\n",
    "    prediction_df = prediction_df.apply(pd.to_numeric, errors='coerce')\n",
    "    std_dev_df = std_dev_df.apply(pd.to_numeric, errors='coerce')\n",
    "\n",
    "    # Compute the confidence interval bounds\n",
    "    lower_bounds = prediction_df - Z * std_dev_df\n",
    "    upper_bounds = prediction_df + Z * std_dev_df\n",
    "\n",
    "    # Check if actual values fall within the bounds\n",
    "    encapsulation = (actual_df >= lower_bounds) & (actual_df <= upper_bounds)\n",
    "\n",
    "    # Calculate the percentage of encapsulated values\n",
    "    encapsulation_percentage = encapsulation.sum().sum() / encapsulation.size * 100\n",
    "\n",
    "    return encapsulation_percentage\n",
    "\n",
    "# Test the function with the loaded data\n",
    "encapsulation_result = calculate_encapsulation_percentage(data_setting = \"Short\",data_name = \"Training\",confidence = 0.95)\n",
    "encapsulation_result\n"
   ]
  },
  {
   "cell_type": "markdown",
   "metadata": {},
   "source": [
    "# Exceedance Frequency Both Upper and Lower "
   ]
  },
  {
   "cell_type": "code",
   "execution_count": 5,
   "metadata": {},
   "outputs": [
    {
     "name": "stderr",
     "output_type": "stream",
     "text": [
      "<>:23: SyntaxWarning: \"is\" with a literal. Did you mean \"==\"?\n",
      "<>:23: SyntaxWarning: \"is\" with a literal. Did you mean \"==\"?\n",
      "/tmp/ipykernel_14012/1839497133.py:23: SyntaxWarning: \"is\" with a literal. Did you mean \"==\"?\n",
      "  if bound_setting is \"Upper\":\n"
     ]
    }
   ],
   "source": [
    "def calculate_encapsulation_percentage(confidence=0.7, data_name =\"Training\", data_setting = \"Long\", bound_setting = \"Upper\"):\n",
    "    \n",
    "    prediction_df = \"/home/jik19004/FilesToRun/BayesianTimeSeries/{}{}/{}Predictions{}.csv\".format(data_name, data_setting, data_name, data_setting)\n",
    "    actual_df = \"/home/jik19004/FilesToRun/BayesianTimeSeries/{}{}/{}Actual_{}.csv\".format(data_name,data_setting,data_name,data_setting)\n",
    "    std_dev_df = \"/home/jik19004/FilesToRun/BayesianTimeSeries/{}{}/{}Std{}.csv\".format(data_name, data_setting, data_name, data_setting)\n",
    "    \n",
    "    prediction_df = pd.read_csv(prediction_df)\n",
    "    actual_df = pd.read_csv(actual_df)\n",
    "    std_dev_df = pd.read_csv(std_dev_df)\n",
    "\n",
    "    Z = norm.ppf((1 + confidence) / 2)\n",
    "\n",
    "\n",
    "    actual_df = actual_df.apply(pd.to_numeric, errors='coerce')\n",
    "    prediction_df = prediction_df.apply(pd.to_numeric, errors='coerce')\n",
    "    std_dev_df = std_dev_df.apply(pd.to_numeric, errors='coerce')\n",
    "\n",
    "\n",
    "    lower_bounds = prediction_df - Z * std_dev_df\n",
    "    upper_bounds = prediction_df + Z * std_dev_df\n",
    "\n",
    "    excedence = 0\n",
    "    if bound_setting is \"Upper\":\n",
    "        excedence = actual_df > upper_bounds # strictly greater than upper bound. \n",
    "    else:\n",
    "        excedence = actual_df < lower_bounds \n",
    "    \n",
    "    encapsulation_percentage = excedence.sum().sum() / excedence.size * 100\n",
    "\n",
    "    return encapsulation_percentage\n"
   ]
  },
  {
   "cell_type": "code",
   "execution_count": 16,
   "metadata": {},
   "outputs": [
    {
     "name": "stdout",
     "output_type": "stream",
     "text": [
      "1.491769547325103\n",
      "0.005715592135345221\n"
     ]
    }
   ],
   "source": [
    "value_upper = calculate_encapsulation_percentage(confidence=0.7, data_name=\"Training\", data_setting = \"Long\", bound_setting=\"Upper\")\n",
    "value_lower = calculate_encapsulation_percentage(confidence=0.7, data_name=\"Training\", data_setting = \"Long\", bound_setting=\"Lower\")\n",
    "print(value_upper)\n",
    "print(value_lower)"
   ]
  }
 ],
 "metadata": {
  "kernelspec": {
   "display_name": "Privacy",
   "language": "python",
   "name": "python3"
  },
  "language_info": {
   "codemirror_mode": {
    "name": "ipython",
    "version": 3
   },
   "file_extension": ".py",
   "mimetype": "text/x-python",
   "name": "python",
   "nbconvert_exporter": "python",
   "pygments_lexer": "ipython3",
   "version": "3.8.0"
  }
 },
 "nbformat": 4,
 "nbformat_minor": 2
}
